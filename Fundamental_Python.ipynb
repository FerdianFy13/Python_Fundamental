{
  "nbformat": 4,
  "nbformat_minor": 0,
  "metadata": {
    "colab": {
      "name": "Fundamental Python.ipynb",
      "provenance": [],
      "collapsed_sections": [
        "qA-zGfZWlRJY",
        "92jL6xE0jNex",
        "pPiguxyBjOqC",
        "vXY016HrsP-H",
        "sy-4mU6UxqI-",
        "7bu0Mesnzouy",
        "MeOahqkTQQ-5",
        "ckNrHXSnj6DM",
        "rwDm77-buUkc",
        "T214WoC6Re90",
        "lTgTuSV6XT59",
        "gdldh-e5IFEg",
        "bFC4-cEmldp9",
        "ibxvEFkOMDUd",
        "WMOe7OKCSlbj",
        "4O5fpJXVSoOP",
        "DOe5o98eLSs9",
        "yoVvTk1XOve0",
        "nJQzimCLWjcM",
        "DZzKK2nIUXZI",
        "IdVA6WVRaJGC",
        "H6tkraFhcIqg",
        "gPRl5spjHs6n",
        "Y9zWjHwofBRn",
        "8PaEEK_8imDr",
        "RQXPSwVpF2n6",
        "MS7KBTn7Jqbt",
        "wxHVllRDLEAg",
        "5pLMKNVYQi3m",
        "4_9nqh78So0M",
        "sNC3PT58nTBf",
        "UWAcWJzgQUNd",
        "nZ-DJnKkUl3v",
        "P4GDCc71cmOv",
        "7VQ2d7ihdBQU",
        "n5oC7eAqg0so",
        "HRhu5-eIsPTf"
      ],
      "authorship_tag": "ABX9TyNLBZ+2qKtdFUbclVooclEl"
    },
    "kernelspec": {
      "name": "python3",
      "display_name": "Python 3"
    },
    "language_info": {
      "name": "python"
    }
  },
  "cells": [
    {
      "cell_type": "markdown",
      "source": [
        "# Fundamental First"
      ],
      "metadata": {
        "id": "qA-zGfZWlRJY"
      }
    },
    {
      "cell_type": "code",
      "execution_count": null,
      "metadata": {
        "id": "FeN9gIY8ZV-Z",
        "outputId": "31cbed66-6a61-4796-8fbc-b3189be546e3",
        "colab": {
          "base_uri": "https://localhost:8080/"
        }
      },
      "outputs": [
        {
          "output_type": "stream",
          "name": "stdout",
          "text": [
            "Ferdian Firmansyah Back end developer\n",
            "5\n"
          ]
        }
      ],
      "source": [
        "print('Ferdian Firmansyah Back end developer')\n",
        "a = 5\n",
        "\"\"\"Example Comment Multiline\"\"\"\n",
        "print(a)"
      ]
    },
    {
      "cell_type": "markdown",
      "source": [
        "# Fundamental Variable"
      ],
      "metadata": {
        "id": "92jL6xE0jNex"
      }
    },
    {
      "cell_type": "code",
      "source": [
        "x = 10\n",
        "x += 5\n",
        "print(\"value x =\", x)"
      ],
      "metadata": {
        "colab": {
          "base_uri": "https://localhost:8080/"
        },
        "id": "MirOMAJ7lB8g",
        "outputId": "9d3059ad-1707-433c-ce9a-cde6bde27a5e"
      },
      "execution_count": null,
      "outputs": [
        {
          "output_type": "stream",
          "name": "stdout",
          "text": [
            "value x = 15\n"
          ]
        }
      ]
    },
    {
      "cell_type": "markdown",
      "source": [
        "# Fundamental Data Type"
      ],
      "metadata": {
        "id": "pPiguxyBjOqC"
      }
    },
    {
      "cell_type": "code",
      "source": [
        "# example type data integer\n",
        "num_a = 43\n",
        "print(\"nilai a =\", num_a, \"type data =\", type(num_a))\n",
        "\n",
        "# example type data string\n",
        "str_a = \"Ferdian\"\n",
        "print(str_a, \"type data =\", type(str_a))\n",
        "\n",
        "# example type data float\n",
        "float_a = 43.5\n",
        "print(\"nilai a =\", float_a, \"type data =\", type(float_a))\n",
        "\n",
        "# example type data boolean\n",
        "boolean_a = True\n",
        "print(\"nilai a =\", boolean_a, \"type data =\", type(boolean_a))\n",
        "\n",
        "# example type data list\n",
        "list_a = [\"amal\", \"imil\", \"amel\"]\n",
        "print(list_a[0])\n",
        "\n",
        "# example type data c_type\n",
        "from ctypes import c_double\n",
        "data_c = c_double(10.5)\n",
        "print(data_c, type(data_c))"
      ],
      "metadata": {
        "colab": {
          "base_uri": "https://localhost:8080/"
        },
        "id": "IDeI_l6KmVYK",
        "outputId": "397f43aa-09b3-4591-aaca-1c1b3afe4acc"
      },
      "execution_count": null,
      "outputs": [
        {
          "output_type": "stream",
          "name": "stdout",
          "text": [
            "nilai a = 43 type data = <class 'int'>\n",
            "Ferdian type data = <class 'str'>\n",
            "nilai a = 43.5 type data = <class 'float'>\n",
            "nilai a = True type data = <class 'bool'>\n",
            "amal\n",
            "c_double(10.5) <class 'ctypes.c_double'>\n"
          ]
        }
      ]
    },
    {
      "cell_type": "markdown",
      "source": [
        "# Fundamental Casting Type Data"
      ],
      "metadata": {
        "id": "vXY016HrsP-H"
      }
    },
    {
      "cell_type": "code",
      "source": [
        "int_a = 20\n",
        "print(int_a, type(int_a))\n",
        "\n",
        "float_a = float(int_a)\n",
        "print(float_a, type(float_a))"
      ],
      "metadata": {
        "colab": {
          "base_uri": "https://localhost:8080/"
        },
        "id": "_m3Wl7V9sVDL",
        "outputId": "14c397c3-31ca-4ec1-fb2e-685c43c53373"
      },
      "execution_count": null,
      "outputs": [
        {
          "output_type": "stream",
          "name": "stdout",
          "text": [
            "20 <class 'int'>\n",
            "20.0 <class 'float'>\n"
          ]
        }
      ]
    },
    {
      "cell_type": "markdown",
      "source": [
        "# Fundamental Get Input"
      ],
      "metadata": {
        "id": "sy-4mU6UxqI-"
      }
    },
    {
      "cell_type": "code",
      "source": [
        "data = input(\"Input your name : \")\n",
        "print(data, type(data))\n",
        "\n",
        "num = int(input(\"Input your age : \"))\n",
        "print(num, type(num))"
      ],
      "metadata": {
        "colab": {
          "base_uri": "https://localhost:8080/"
        },
        "id": "MGq87IrFxufq",
        "outputId": "3006e997-82ce-4378-8d95-986bccddf7ce"
      },
      "execution_count": null,
      "outputs": [
        {
          "output_type": "stream",
          "name": "stdout",
          "text": [
            "Input your name : Ferdian Firmansyah\n",
            "Ferdian Firmansyah <class 'str'>\n",
            "Input your age : 19\n",
            "19 <class 'int'>\n"
          ]
        }
      ]
    },
    {
      "cell_type": "markdown",
      "source": [
        "\n",
        "# Fundamental Aritmatika"
      ],
      "metadata": {
        "id": "7bu0Mesnzouy"
      }
    },
    {
      "cell_type": "code",
      "source": [
        "c = 5\n",
        "o = 9\n",
        "result = c ** o\n",
        "print(result)"
      ],
      "metadata": {
        "colab": {
          "base_uri": "https://localhost:8080/"
        },
        "id": "ENgoQ5yFjp7D",
        "outputId": "69669f08-ff68-4999-c8ac-847ad0b4ab47"
      },
      "execution_count": null,
      "outputs": [
        {
          "output_type": "stream",
          "name": "stdout",
          "text": [
            "1953125\n"
          ]
        }
      ]
    },
    {
      "cell_type": "markdown",
      "source": [
        "# Latihan Konversi Temperature"
      ],
      "metadata": {
        "id": "MeOahqkTQQ-5"
      }
    },
    {
      "cell_type": "code",
      "source": [
        "# latihan konversi satuan temperature\n",
        "fahrenheit = float(input(\"Masukka suhu yang ingin dikonversi : \"))\n",
        "celcius = ((5 / 9) * fahrenheit) - 32\n",
        "kelvin = celcius + 273\n",
        "print(\"suhu konversi celcius :\", celcius)\n",
        "print(\"suhu konversi kelvin :\", kelvin)"
      ],
      "metadata": {
        "colab": {
          "base_uri": "https://localhost:8080/"
        },
        "id": "mt_Ir0HxQfJL",
        "outputId": "8e55c60a-efc6-435c-ac44-136663395739"
      },
      "execution_count": null,
      "outputs": [
        {
          "output_type": "stream",
          "name": "stdout",
          "text": [
            "Masukka suhu yang ingin dikonversi : 200\n",
            "suhu konversi celcius : 79.11111111111111\n",
            "suhu konversi kelvin : 352.1111111111111\n"
          ]
        }
      ]
    },
    {
      "cell_type": "markdown",
      "source": [
        "# Fundamental Komparasi"
      ],
      "metadata": {
        "id": "ckNrHXSnj6DM"
      }
    },
    {
      "cell_type": "code",
      "source": [
        "# komparasi >, <, >=, <=, ==, !=, is, is not => \n",
        "# is membandingkan sebuah variable apakan variable tersebut sama ataupun berbeda\n",
        "# menghasilkan sebuah output type data boolean\n",
        "data_a = 10\n",
        "data_b = 80\n",
        "com = data_a is data_b\n",
        "print(\"Perbandingan komparasi\", com)\n",
        "print(data_b, \"id : \", hex(id(data_a)))"
      ],
      "metadata": {
        "colab": {
          "base_uri": "https://localhost:8080/"
        },
        "id": "5RfnTbj0kAP0",
        "outputId": "cfbf39b2-0c03-4822-ee73-3140eb8d438b"
      },
      "execution_count": null,
      "outputs": [
        {
          "output_type": "stream",
          "name": "stdout",
          "text": [
            "Perbandingan komparasi False\n",
            "80 id :  0xabc220\n"
          ]
        }
      ]
    },
    {
      "cell_type": "markdown",
      "source": [
        "# Fundamental Logika"
      ],
      "metadata": {
        "id": "rwDm77-buUkc"
      }
    },
    {
      "cell_type": "code",
      "source": [
        "# dalam operator logika terdapat beberapa operasi seperti not, or, and, xor\n",
        "data_x = 10\n",
        "not_x = not data_x\n",
        "print(not_x)"
      ],
      "metadata": {
        "colab": {
          "base_uri": "https://localhost:8080/"
        },
        "id": "Lp5CjNYmudaF",
        "outputId": "1f1ca5a9-f586-4a1c-f119-c3349aa5433b"
      },
      "execution_count": null,
      "outputs": [
        {
          "output_type": "stream",
          "name": "stdout",
          "text": [
            "False\n"
          ]
        }
      ]
    },
    {
      "cell_type": "markdown",
      "source": [
        "# Latihan Logika dan Komparasi"
      ],
      "metadata": {
        "id": "T214WoC6Re90"
      }
    },
    {
      "cell_type": "code",
      "source": [
        "input_user = float(input(\"Masukkan nilai yang anda inginkan : \"))\n",
        "logic = (0 < input_user < 5) and (8 < input_user < 11)\n",
        "logic_b = (0 > input_user) or (5 < input_user < 8) or (input_user > 11)\n",
        "print(logic)\n",
        "print(logic_b)"
      ],
      "metadata": {
        "colab": {
          "base_uri": "https://localhost:8080/"
        },
        "id": "zRJBjzKMRjef",
        "outputId": "f16f38c8-31f7-4ac9-b385-603ed87075e4"
      },
      "execution_count": null,
      "outputs": [
        {
          "output_type": "stream",
          "name": "stdout",
          "text": [
            "Masukkan nilai yang anda inginkan : 12\n",
            "False\n",
            "True\n"
          ]
        }
      ]
    },
    {
      "cell_type": "markdown",
      "source": [
        "# Fundamental Bitwise"
      ],
      "metadata": {
        "id": "lTgTuSV6XT59"
      }
    },
    {
      "cell_type": "code",
      "source": [
        "# operasi bitwise merupakan sebuah operasi untuk mengkalkulasi sebuah bit\n",
        "a = 7\n",
        "b = 9\n",
        "c = a | b\n",
        "print(\"nilai \", a, \"kalkulasi bitwise :\", format(a, \"08b\"))\n",
        "print(\"nilai \", b, \"kalkulasi bitwise :\", format(b, \"08b\"))\n",
        "print(\"nilai \", c, \"kalkulasi bitwise :\", format(c, \"08b\"))"
      ],
      "metadata": {
        "id": "B2I56DzQXXdF",
        "colab": {
          "base_uri": "https://localhost:8080/"
        },
        "outputId": "c442ebe7-3edd-4765-c0af-254b36fdca46"
      },
      "execution_count": null,
      "outputs": [
        {
          "output_type": "stream",
          "name": "stdout",
          "text": [
            "nilai  7 kalkulasi bitwise : 00000111\n",
            "nilai  9 kalkulasi bitwise : 00001001\n",
            "nilai  15 kalkulasi bitwise : 00001111\n"
          ]
        }
      ]
    },
    {
      "cell_type": "markdown",
      "source": [
        "# Fundamental String"
      ],
      "metadata": {
        "id": "gdldh-e5IFEg"
      }
    },
    {
      "cell_type": "code",
      "source": [
        "data = \"Ferdian Firmansyah\"\n",
        "print(data, type(data))\n",
        "\n",
        "# penggunanan r didepan merupakan sebuah raw string tidak akan mempengaruhi karakter khusus literal string dalam bahasa pemrograman python\n",
        "# cr => carriage return\n",
        "# lf leaf feed\n",
        "# crlf => carriage return leaf feed\n",
        "data = r'C:\\nFerdian\\\\Firmansyah'\n",
        "print(data, type(data))\n",
        "\n",
        "# multiline string\n",
        "print(\"\"\"\n",
        "name : Ferdian Firmansyah\n",
        "hoby : Programmer\n",
        "\"\"\")"
      ],
      "metadata": {
        "colab": {
          "base_uri": "https://localhost:8080/"
        },
        "id": "M6C12aNqIJ3-",
        "outputId": "9a782703-ea1a-418d-883b-0d0b49b9f4d6"
      },
      "execution_count": null,
      "outputs": [
        {
          "output_type": "stream",
          "name": "stdout",
          "text": [
            "Ferdian Firmansyah <class 'str'>\n",
            "C:\\nFerdian\\\\Firmansyah <class 'str'>\n",
            "\n",
            "name : Ferdian Firmansyah\n",
            "hoby : Programmer\n",
            "\n"
          ]
        }
      ]
    },
    {
      "cell_type": "markdown",
      "source": [
        "# Testing Machine Learning"
      ],
      "metadata": {
        "id": "bFC4-cEmldp9"
      }
    },
    {
      "cell_type": "code",
      "source": [
        "import matplotlib.pyplot as plt\n",
        "from scipy import stats\n",
        "\n",
        "x = [89,43,36,36,95,10,66,34,38,20,26,29,48,64,6,5,36,66,72,40]\n",
        "y = [21,46,3,35,67,95,53,72,58,10,26,34,90,33,38,20,56,2,47,15]\n",
        "\n",
        "slope, intercept, r, p, std_err = stats.linregress(x, y)\n",
        "\n",
        "def myfunc(x):\n",
        "  return slope * x + intercept\n",
        "\n",
        "mymodel = list(map(myfunc, x))\n",
        "\n",
        "plt.scatter(x, y)\n",
        "plt.plot(x, mymodel)\n",
        "plt.show()"
      ],
      "metadata": {
        "id": "cjzzCTHTll_8",
        "colab": {
          "base_uri": "https://localhost:8080/",
          "height": 265
        },
        "outputId": "393bce51-c416-4760-8f9d-f9199c482119"
      },
      "execution_count": null,
      "outputs": [
        {
          "output_type": "display_data",
          "data": {
            "text/plain": [
              "<Figure size 432x288 with 1 Axes>"
            ],
            "image/png": "[encoded data removed]"
          },
          "metadata": {
            "needs_background": "light"
          }
        }
      ]
    },
    {
      "cell_type": "markdown",
      "source": [
        "# Fundamental Manipulasi Operasi String Part 1"
      ],
      "metadata": {
        "id": "ibxvEFkOMDUd"
      }
    },
    {
      "cell_type": "code",
      "source": [
        "from numpy.ma.core import count\n",
        "# len digunakan untuk menghitung panjang karakter literal dalam string\n",
        "# in digunakna untuk melakukan pengecekan karakter tersebut apakah ada atau tidak \n",
        "nama_awal = \"Ferdian\"\n",
        "nama_akhir = \"Firmansyah\"\n",
        "nama_lengkap = nama_awal + \" \" + nama_akhir\n",
        "status = \"f\" in nama_lengkap\n",
        "print(status)\n",
        "print(nama_lengkap, len(nama_lengkap))\n",
        "\n",
        "# operasi assignment string\n",
        "data = (\"Laravel\" * 10)\n",
        "print(data)\n",
        "\n",
        "test = 192\n",
        "\n",
        "# operasi indexing array\n",
        "print(nama_lengkap[-1])\n",
        "print(nama_lengkap[0:5:3])\n",
        "print(max(nama_lengkap))\n",
        "print(chr(test))\n",
        "\n",
        "# assci code\n",
        "asci = ord(\" \")\n",
        "print(asci)\n",
        "\n",
        "# penggunaan method dalam literal string\n",
        "methods = \"Laravel Framework\"\n",
        "jml = methods.count(\"a\")\n",
        "print(jml)"
      ],
      "metadata": {
        "colab": {
          "base_uri": "https://localhost:8080/"
        },
        "id": "nG9P2z3fMKUl",
        "outputId": "96bf35b3-8251-460b-a16e-759dab3c5b93"
      },
      "execution_count": null,
      "outputs": [
        {
          "output_type": "stream",
          "name": "stdout",
          "text": [
            "False\n",
            "Ferdian Firmansyah 18\n",
            "LaravelLaravelLaravelLaravelLaravelLaravelLaravelLaravelLaravelLaravel\n",
            "h\n",
            "Fd\n",
            "y\n",
            "À\n",
            "32\n",
            "3\n"
          ]
        }
      ]
    },
    {
      "cell_type": "markdown",
      "source": [
        "# Fundamental Manipulasi Operasi String Part 2"
      ],
      "metadata": {
        "id": "WMOe7OKCSlbj"
      }
    },
    {
      "cell_type": "code",
      "source": [
        "# Penggunaan Uppercase literal string python\n",
        "mekum = \"Hello Word\"\n",
        "print(\"Hy \" + mekum)\n",
        "mekum = mekum.upper()\n",
        "print(\"Hy \" + mekum)\n",
        "\n",
        "# melakukan pengecekan dengan method isX method\n",
        "test1 = mekum.istitle()\n",
        "print(str(test1))\n",
        "\n",
        "lista = [\"Laravel\", \"CodeIgniter\", \"Phalcon\"]\n",
        "gab = \" \".join(lista)\n",
        "print(gab)\n",
        "\n",
        "# untuk mealokasikan string literal dapat menggunakan rjust, ljust, dan center\n",
        "left = \"kiri\".center(10)\n",
        "print(\"'\"+left+\"'\")"
      ],
      "metadata": {
        "id": "58JqPRdnSqwi",
        "colab": {
          "base_uri": "https://localhost:8080/"
        },
        "outputId": "06d37ac6-a75d-43b6-f637-036b683fc0e3"
      },
      "execution_count": null,
      "outputs": [
        {
          "output_type": "stream",
          "name": "stdout",
          "text": [
            "Hy Hello Word\n",
            "Hy HELLO WORD\n",
            "False\n",
            "Laravel CodeIgniter Phalcon\n",
            "'   kiri   '\n"
          ]
        }
      ]
    },
    {
      "cell_type": "markdown",
      "source": [
        "# Fundamental Format String"
      ],
      "metadata": {
        "id": "4O5fpJXVSoOP"
      }
    },
    {
      "cell_type": "code",
      "source": [
        "# f merupakan sebuah method untuk melakukan format ketika ingin memasukkan sebuah variable yang ingin dicetak\n",
        "fm = \"Ferdian Valet\"\n",
        "print(f\"Hello {fm}\")\n",
        "\n",
        "numers = 2003.222\n",
        "print(f\"age is {numers:.2f}\")\n",
        "\n",
        "per = 0.045\n",
        "print(f\"{per:%}\")\n",
        "\n",
        "# aritmatika format\n",
        "a = 10\n",
        "b = 6\n",
        "print(f\"value is {a * b}\")"
      ],
      "metadata": {
        "colab": {
          "base_uri": "https://localhost:8080/"
        },
        "id": "jCd9GF-6SubN",
        "outputId": "f4f5b419-f6be-4bcb-c04a-9c89451bcce1"
      },
      "execution_count": null,
      "outputs": [
        {
          "output_type": "stream",
          "name": "stdout",
          "text": [
            "Hello Ferdian Valet\n",
            "age is 2003.22\n",
            "4.500000%\n",
            "value is 60\n"
          ]
        }
      ]
    },
    {
      "cell_type": "markdown",
      "source": [
        "# Fundamental String Width ALignment"
      ],
      "metadata": {
        "id": "DOe5o98eLSs9"
      }
    },
    {
      "cell_type": "code",
      "source": [
        "# penggunan tanda control flow untuk mengatur format string dalam python\n",
        "nama = \"Ferdian\"\n",
        "alamat= \"Banyuwangi\"\n",
        "default = f\"\"\"\n",
        "nama   = {nama:>10}\n",
        "alamat = {alamat}\n",
        "\"\"\"\n",
        "print(default)"
      ],
      "metadata": {
        "colab": {
          "base_uri": "https://localhost:8080/"
        },
        "id": "CGdjdPI-LS_1",
        "outputId": "e484e997-f255-4ee0-de80-5ac064a48326"
      },
      "execution_count": null,
      "outputs": [
        {
          "output_type": "stream",
          "name": "stdout",
          "text": [
            "\n",
            "nama   =    Ferdian\n",
            "alamat = Banyuwangi\n",
            "\n"
          ]
        }
      ]
    },
    {
      "cell_type": "markdown",
      "source": [
        "# Fundamental import Date Time"
      ],
      "metadata": {
        "id": "yoVvTk1XOve0"
      }
    },
    {
      "cell_type": "code",
      "source": [
        "import datetime as datetimes\n",
        "\n",
        "# day = datetimes.date.today()\n",
        "# print(day)\n",
        "# print(f\"day is {day:%a}\")\n",
        "print(\"Enter the month of the year you were born\")\n",
        "tgl = int(input(\"date \\t: \"))\n",
        "bulan = int(input(\"month \\t: \"))\n",
        "tahun = int(input(\"year \\t: \"))\n",
        "result = datetimes.date(tahun,bulan,tgl)\n",
        "print(f\"day is {result}\")\n",
        "\n",
        "age = datetimes.date.today()\n",
        "calcul = age - result\n",
        "day_c = calcul.days // 365\n",
        "print(f\"age is {day_c} year\")"
      ],
      "metadata": {
        "colab": {
          "base_uri": "https://localhost:8080/"
        },
        "id": "16KBpWFkOvxj",
        "outputId": "a137ae43-0288-47e1-ebb3-338306634f28"
      },
      "execution_count": null,
      "outputs": [
        {
          "output_type": "stream",
          "name": "stdout",
          "text": [
            "Enter the month of the year you were born\n",
            "date \t: 28\n",
            "month \t: 06\n",
            "year \t: 2002\n",
            "day is 2002-06-28\n",
            "age is 19 year\n"
          ]
        }
      ]
    },
    {
      "cell_type": "markdown",
      "source": [
        "# Fundamental Control Flow"
      ],
      "metadata": {
        "id": "nJQzimCLWjcM"
      }
    },
    {
      "cell_type": "code",
      "source": [
        "# name = input(\"Input your name : \")\n",
        "# if name == \"amal\" :\n",
        "#   print(f\"true {name}\")\n",
        "# elif name == \"ferdian\" :\n",
        "#   print(f\"middle {name}\")\n",
        "# else :\n",
        "#   print(f\"false {name}\")\n",
        "\n",
        "# calculator minimalits python\n",
        "number_one = float(input(\"number one is \"))\n",
        "operator = input(\"operator is \")\n",
        "number_two = float(input(\"number two is \"))\n",
        "\n",
        "if operator == \"+\" :\n",
        "  print(number_one + number_two)\n",
        "elif operator == \"-\" :\n",
        "  print(number_one - number_two)\n",
        "elif operator == \"*\" :\n",
        "  print(number_one * number_two)\n",
        "elif operator == \"/\" :\n",
        "  print(number_one / number_two)\n",
        "elif operator == \"%\" :\n",
        "  print(number_one % number_two)\n",
        "elif operator == \"**\" :\n",
        "  print(number_one ** number_two)\n",
        "else :\n",
        "  print(\"not operator in system\")"
      ],
      "metadata": {
        "colab": {
          "base_uri": "https://localhost:8080/"
        },
        "id": "HPcNcXMdWjuj",
        "outputId": "febb3021-476d-4035-b453-8fd6db536432"
      },
      "execution_count": null,
      "outputs": [
        {
          "output_type": "stream",
          "name": "stdout",
          "text": [
            "number one is 115\n",
            "operator is %\n",
            "number two is 112\n",
            "3.0\n"
          ]
        }
      ]
    },
    {
      "cell_type": "markdown",
      "source": [
        "# Fundamental Looping"
      ],
      "metadata": {
        "id": "DZzKK2nIUXZI"
      }
    },
    {
      "cell_type": "code",
      "source": [
        "# looping pada python cukup menggunakan keyword in \n",
        "data = [\"dart\", \"laravel\", \"CodeIgniter\"]\n",
        "for x in data :\n",
        "  print(f\"x is -> {x}\")\n",
        "for i in range(5) :\n",
        "  print(i)\n",
        "for i in range(10,15) :\n",
        "  print(i)"
      ],
      "metadata": {
        "colab": {
          "base_uri": "https://localhost:8080/"
        },
        "id": "LHjn6Tj3UXpg",
        "outputId": "36209c20-e778-43d1-dde7-4dad099260fb"
      },
      "execution_count": null,
      "outputs": [
        {
          "output_type": "stream",
          "name": "stdout",
          "text": [
            "x is -> dart\n",
            "x is -> laravel\n",
            "x is -> CodeIgniter\n",
            "0\n",
            "1\n",
            "2\n",
            "3\n",
            "4\n",
            "10\n",
            "11\n",
            "12\n",
            "13\n",
            "14\n"
          ]
        }
      ]
    },
    {
      "cell_type": "markdown",
      "source": [
        "# Fundamental While Loop"
      ],
      "metadata": {
        "id": "IdVA6WVRaJGC"
      }
    },
    {
      "cell_type": "code",
      "source": [
        "# penggunaan while loop dalam bahasa pemrograman python \n",
        "number = 0\n",
        "while number < 5:\n",
        "  number += 1\n",
        "  print(f\"Ferdian Firmansyah {number}\")\n",
        "print(\"end\")"
      ],
      "metadata": {
        "colab": {
          "base_uri": "https://localhost:8080/"
        },
        "id": "iHuYKJ82aN8H",
        "outputId": "fb733d53-148e-4a4f-8fbf-888f95fca0ab"
      },
      "execution_count": null,
      "outputs": [
        {
          "output_type": "stream",
          "name": "stdout",
          "text": [
            "Ferdian Firmansyah 1\n",
            "Ferdian Firmansyah 2\n",
            "Ferdian Firmansyah 3\n",
            "Ferdian Firmansyah 4\n",
            "Ferdian Firmansyah 5\n",
            "end\n"
          ]
        }
      ]
    },
    {
      "cell_type": "markdown",
      "source": [
        "# Fundamental Pass and Continue"
      ],
      "metadata": {
        "id": "H6tkraFhcIqg"
      }
    },
    {
      "cell_type": "code",
      "source": [
        "# pass digunakan sebagai sebuah dummy yang tidak akan dieksekusi\n",
        "num = 0\n",
        "while num < 5:\n",
        "  num += 1\n",
        "  if num == 3:\n",
        "    print(\"boolean\")\n",
        "    break\n",
        "    # continue # akan membuat loop meloncat ke statement selanjutnya\n",
        "    # pass # tidak akan dieksekusi\n",
        "  print(num)\n",
        "  print(\"fff\")\n",
        "print(\"end\")\n",
        "# penggunaan break digunakna untuk menghentikan sebuah kondisi jika kondisi tersebut sudah terpenuhi"
      ],
      "metadata": {
        "colab": {
          "base_uri": "https://localhost:8080/"
        },
        "id": "LR_XqidpcOZ4",
        "outputId": "d06c4b8d-41c7-4546-de0f-0eed727e50ae"
      },
      "execution_count": null,
      "outputs": [
        {
          "output_type": "stream",
          "name": "stdout",
          "text": [
            "1\n",
            "fff\n",
            "2\n",
            "fff\n",
            "boolean\n",
            "end\n"
          ]
        }
      ]
    },
    {
      "cell_type": "markdown",
      "source": [
        "# Fundamental Percabangan"
      ],
      "metadata": {
        "id": "gPRl5spjHs6n"
      }
    },
    {
      "cell_type": "code",
      "source": [
        "# menggunakan for\n",
        "sisi = 9\n",
        "count = 1\n",
        "for i in range(sisi):\n",
        "  print(\"*\"*count)\n",
        "  count += 1\n",
        "\n",
        "print(\"\\nPenggunaan While\")\n",
        "count = 1\n",
        "while True:\n",
        "  print(\"*\"*count)\n",
        "  count += 1\n",
        "\n",
        "  if count > sisi:\n",
        "    break\n",
        "\n",
        "print(\"\\n Bilangan Ganjil\")\n",
        "count = 1\n",
        "spasi = int(sisi / 2)\n",
        "while True:\n",
        "  if count % 2:\n",
        "    print(\" \"*spasi,\"*\"*count)\n",
        "    spasi -= 1\n",
        "    count += 1\n",
        "  else:\n",
        "    count += 1\n",
        "    continue\n",
        "\n",
        "  if count > sisi:\n",
        "    break\n",
        "\n",
        "print(\"\\n Bilangan Genap\")\n",
        "count = 1\n",
        "while True:\n",
        "  if count % 2:\n",
        "    count += 1\n",
        "    continue\n",
        "\n",
        "  print(\"*\"*count)\n",
        "  count += 1\n",
        "  if count > sisi:\n",
        "    break"
      ],
      "metadata": {
        "colab": {
          "base_uri": "https://localhost:8080/"
        },
        "id": "KiIFaH8DHxen",
        "outputId": "f6e7b4ac-04a7-4697-d225-d41e9e2de9d5"
      },
      "execution_count": null,
      "outputs": [
        {
          "output_type": "stream",
          "name": "stdout",
          "text": [
            "*\n",
            "**\n",
            "***\n",
            "****\n",
            "*****\n",
            "******\n",
            "*******\n",
            "********\n",
            "*********\n",
            "\n",
            "Penggunaan While\n",
            "*\n",
            "**\n",
            "***\n",
            "****\n",
            "*****\n",
            "******\n",
            "*******\n",
            "********\n",
            "*********\n",
            "\n",
            " Bilangan Ganjil\n",
            "     *\n",
            "    ***\n",
            "   *****\n",
            "  *******\n",
            " *********\n",
            "\n",
            " Bilangan Genap\n",
            "**\n",
            "****\n",
            "******\n",
            "********\n",
            "**********\n"
          ]
        }
      ]
    },
    {
      "cell_type": "markdown",
      "source": [
        "# Fundamental List"
      ],
      "metadata": {
        "id": "Y9zWjHwofBRn"
      }
    },
    {
      "cell_type": "code",
      "source": [
        "# list merupakan sebuah kumpulan data yang ditampung dalam python fungsinya hampir sama dengan penggunaan array\n",
        "data = [\"Ferdian\", True, 243, \"Firmansyah\"]\n",
        "print(data[1])\n",
        "\n",
        "# example two menggunakan fungsi list bawaan dari python => range(start, stop, step)\n",
        "data_x = list(range(1, 10))\n",
        "print(data_x)\n",
        "\n",
        "# example three menggunakan looping dalam pembuatan list\n",
        "data_for = list(i**2 for i in range(1, 9))\n",
        "print(data_for)\n",
        "\n",
        "# example four menggunakan percabangan dan control flow dalam pembuatan list\n",
        "data_if = [i for i in range(1, 10) if i%2 == 0]\n",
        "print(f\"Bilangan Genap  => {data_if}\")\n",
        "data_if = [i for i in range(1, 8) if i%2 == 1]\n",
        "print(f\"Bilangan Ganjil => {data_if}\")"
      ],
      "metadata": {
        "colab": {
          "base_uri": "https://localhost:8080/"
        },
        "id": "i4K5yhA4fENS",
        "outputId": "7d906aa4-a0cc-4f5a-812f-57744e732e05"
      },
      "execution_count": null,
      "outputs": [
        {
          "output_type": "stream",
          "name": "stdout",
          "text": [
            "True\n",
            "[1, 2, 3, 4, 5, 6, 7, 8, 9]\n",
            "[1, 4, 9, 16, 25, 36, 49, 64]\n",
            "Bilangan Genap  => [2, 4, 6, 8]\n",
            "Bilangan Ganjil => [1, 3, 5, 7]\n"
          ]
        }
      ]
    },
    {
      "cell_type": "markdown",
      "source": [
        "# Fundamental Manipulasi List"
      ],
      "metadata": {
        "id": "8PaEEK_8imDr"
      }
    },
    {
      "cell_type": "code",
      "source": [
        "# pengenalan index dan manipulasi list dalam bahasa pemrograman python\n",
        "data = [\"Ferdian\", \"Laravel\", \"Firmansyah\"]\n",
        "print(f\"panjang data {len(data)}\")\n",
        "print(f\"data terakhir {data[-1]}\")\n",
        "\n",
        "# example manipulasi list\n",
        "# a. Untuk menambahkan data dalam operasi manipulasi list menggunakan insert(untuk didepan) dan (append untuk diakhir)\n",
        "data.insert(0, \"Dart\")\n",
        "print(data)\n",
        "data.append(\"OOP\")\n",
        "print(data)\n",
        "\n",
        "# updating data menggunakan list dalam \n",
        "data[1] = \"CodeIgniter\"\n",
        "print(data)\n",
        "\n",
        "# deleter data menggunakan list dalam python\n",
        "data.remove(data[1])\n",
        "print(data)\n",
        "\n",
        "# sorting data dalam bahasa pemrograman python\n",
        "data.sort()\n",
        "print(data)\n",
        "\n",
        "# reverse atau urutan data yang diurutkan secara descending\n",
        "data.sort(reverse = True)\n",
        "print(data)\n",
        "\n"
      ],
      "metadata": {
        "colab": {
          "base_uri": "https://localhost:8080/"
        },
        "id": "bMXpw10Cio-z",
        "outputId": "55155dbd-fc4c-4a6b-b690-a18a7ff6846b"
      },
      "execution_count": null,
      "outputs": [
        {
          "output_type": "stream",
          "name": "stdout",
          "text": [
            "panjang data 3\n",
            "data terakhir Firmansyah\n",
            "['Dart', 'Ferdian', 'Laravel', 'Firmansyah']\n",
            "['Dart', 'Ferdian', 'Laravel', 'Firmansyah', 'OOP']\n",
            "['Dart', 'CodeIgniter', 'Laravel', 'Firmansyah', 'OOP']\n",
            "['Dart', 'Laravel', 'Firmansyah', 'OOP']\n",
            "['Dart', 'Firmansyah', 'Laravel', 'OOP']\n",
            "['OOP', 'Laravel', 'Firmansyah', 'Dart']\n"
          ]
        }
      ]
    },
    {
      "cell_type": "markdown",
      "source": [
        "# Fundamental Operasi List"
      ],
      "metadata": {
        "id": "RQXPSwVpF2n6"
      }
    },
    {
      "cell_type": "code",
      "source": [
        "# fungsi count digunakan untuk menghitung jumlah object dalam object list di python\n",
        "data = [1, 4, 4, 2, 4, 2, 5,4, 6, 6, 7, 8, 3]\n",
        "print(f\"jumlah hitung object => {data.count(6)}\")\n",
        "data.sort()\n",
        "print(f\"ascending  => {data}\")\n",
        "data.reverse()\n",
        "print(f\"descending => {data}\")\n",
        "\n",
        "# index digunakan untuk mengetahui index dari key list yang diinputkan\n",
        "data = [\"Ferdi\", \"Firman\", \"Yusuf\"]\n",
        "print(data.index(\"Firman\"))"
      ],
      "metadata": {
        "colab": {
          "base_uri": "https://localhost:8080/"
        },
        "id": "k3VHoMfDF-wt",
        "outputId": "32f2f8f4-4859-4dc9-ca4f-376271be5da3"
      },
      "execution_count": null,
      "outputs": [
        {
          "output_type": "stream",
          "name": "stdout",
          "text": [
            "jumlah hitung object => 2\n",
            "ascending  => [1, 2, 2, 3, 4, 4, 4, 4, 5, 6, 6, 7, 8]\n",
            "descending => [8, 7, 6, 6, 5, 4, 4, 4, 4, 3, 2, 2, 1]\n",
            "1\n"
          ]
        }
      ]
    },
    {
      "cell_type": "markdown",
      "source": [
        "# Fundamental Copy List"
      ],
      "metadata": {
        "id": "MS7KBTn7Jqbt"
      }
    },
    {
      "cell_type": "code",
      "source": [
        "# copy list dengan cara satu\n",
        "data = [\"Ferdi\", \"Yusuf\", \"Ryan\"]\n",
        "x = data\n",
        "x.sort()\n",
        "print(x)\n",
        "\n",
        "# copy list dengan cara dua\n",
        "c = data.copy()\n",
        "c[1] = \"Fantech\"\n",
        "print(f\"{c}\")\n",
        "\n",
        "print(f\"jumlah hex data => {hex(id(data))}\")\n",
        "print(f\"jumlah hex c    => {hex(id(c))}\")"
      ],
      "metadata": {
        "colab": {
          "base_uri": "https://localhost:8080/"
        },
        "id": "ybjSGt3OJu9E",
        "outputId": "0f3b9e8d-3e3a-4faf-eb25-ceeb725b46c8"
      },
      "execution_count": null,
      "outputs": [
        {
          "output_type": "stream",
          "name": "stdout",
          "text": [
            "['Ferdi', 'Ryan', 'Yusuf']\n",
            "['Ferdi', 'Fantech', 'Yusuf']\n",
            "jumlah hex data => 0x7f01243b8280\n",
            "jumlah hex c    => 0x7f0124345320\n"
          ]
        }
      ]
    },
    {
      "cell_type": "markdown",
      "source": [
        "# Fundamental Nested List"
      ],
      "metadata": {
        "id": "wxHVllRDLEAg"
      }
    },
    {
      "cell_type": "code",
      "source": [
        "# nested list merupakan sebuah penggabungan list didalam sebuah list\n",
        "data_a = [1,12]\n",
        "data_b = [2,13]\n",
        "# penggunaan list dengan menggunakan cara ini hampir sama dengan array dua dimensi\n",
        "list_c = [data_a, data_b]\n",
        "print(list_c)\n",
        "\n",
        "for dd in list_c:\n",
        "  # cara akses list dua dimensi\n",
        "  print(f\"angka => {dd[1]}\")"
      ],
      "metadata": {
        "colab": {
          "base_uri": "https://localhost:8080/"
        },
        "id": "TylOFkcLLKKD",
        "outputId": "4ae535e0-7505-4783-d519-6498f34580b2"
      },
      "execution_count": null,
      "outputs": [
        {
          "output_type": "stream",
          "name": "stdout",
          "text": [
            "[[1, 12], [2, 13]]\n",
            "angka => 12\n",
            "angka => 13\n"
          ]
        }
      ]
    },
    {
      "cell_type": "markdown",
      "source": [
        "# Fundamental Deep Copy"
      ],
      "metadata": {
        "id": "5pLMKNVYQi3m"
      }
    },
    {
      "cell_type": "code",
      "source": [
        "# menggunakan fungsi import deep copy ketika ingin melakukan copy list dalam bahasa pemrograman python\n",
        "from copy import deepcopy\n",
        "\n",
        "data = [\"Ferdian\", \"Firmansyah\", \"Fantech\"]\n",
        "# penggunana import deep copy dan cara mengaksesnya\n",
        "data_x = deepcopy(data)\n",
        "print(data_x)\n",
        "\n",
        "print(f\"hex data   => {hex(id(data))}\")\n",
        "print(f\"hex data_x => {hex(id(data_x))}\")"
      ],
      "metadata": {
        "colab": {
          "base_uri": "https://localhost:8080/"
        },
        "id": "2XNRof1wQqwK",
        "outputId": "0940f088-d158-4b92-ae85-7bf319b11dd6"
      },
      "execution_count": null,
      "outputs": [
        {
          "output_type": "stream",
          "name": "stdout",
          "text": [
            "['Ferdian', 'Firmansyah', 'Fantech']\n",
            "hex data   => 0x7f9b3a47c5a0\n",
            "hex data_x => 0x7f9b3a4812d0\n"
          ]
        }
      ]
    },
    {
      "cell_type": "markdown",
      "source": [
        "# Fundamental Looping List and Enumerate"
      ],
      "metadata": {
        "id": "4_9nqh78So0M"
      }
    },
    {
      "cell_type": "code",
      "source": [
        "# melakukan sebuah looping didalam sebuah list\n",
        "data = [1, 5, 2, 3]\n",
        "\n",
        "# penggunaan for loop\n",
        "print(\"for loop\")\n",
        "for i in data:\n",
        "  print(f\"data loop => {i}\")\n",
        "\n",
        "# penggunaan for loop dan range\n",
        "print(\"\\nFor Loop and Range\")\n",
        "panjang = len(data)\n",
        "for i in range(panjang):\n",
        "  print(f\"data range => {data[i]}\")\n",
        "\n",
        "# penggunaan while loop \n",
        "print(\"\\nWhile Loop\")\n",
        "i = 0\n",
        "while i < panjang:\n",
        "  print(f\"data while => {data[i]}\")\n",
        "  i += 1\n",
        "\n",
        "# penggunaan list comprehension\n",
        "print(\"\\nList Comprehension\")\n",
        "data = [\"Ferdian\", 4, 2, 2003, \"Firmansyah\"]\n",
        "[print(f\"data list => {x}\") for x in data]\n",
        "\n",
        "# penggunaan enumerate yang dapat mengambil index beserta datanya sekaligus\n",
        "print(\"\\nEnumerate\")\n",
        "for index, data in enumerate(data):\n",
        "  print(f\"index = {index}, data = {data}\")"
      ],
      "metadata": {
        "id": "AvZQd2q2Suem"
      },
      "execution_count": null,
      "outputs": []
    },
    {
      "cell_type": "markdown",
      "source": [
        "# Latihan Loop List"
      ],
      "metadata": {
        "id": "sNC3PT58nTBf"
      }
    },
    {
      "cell_type": "code",
      "source": [
        "# latihan pemahaman penggunaan list\n",
        "print(\"Data Mahasiswa\")\n",
        "\n",
        "data_list = []\n",
        "\n",
        "while True:\n",
        "  nama = input(\"input your name  : \")\n",
        "  nim = int(input(\"input your nim   : \"))\n",
        "  prodi = input(\"input your major : \")\n",
        "\n",
        "  list_data = [nama, nim, prodi]\n",
        "  data_list.append(list_data)\n",
        "\n",
        "  # looping\n",
        "  # print(f\"index nama\\t nim\\t prodi\")\n",
        "  for index, data in enumerate(data_list):\n",
        "    print(f\"{index} {data[0]}\\t {data[1]}\\t {data[2]}\")\n",
        "\n",
        "  confirm = input(\"do you want to continue yes or no ? \")\n",
        "  if confirm == \"no\":\n",
        "    break\n",
        "  else:\n",
        "    continue"
      ],
      "metadata": {
        "colab": {
          "base_uri": "https://localhost:8080/"
        },
        "id": "VUSUOzginYnH",
        "outputId": "3d6934fc-e3bc-4abe-f868-4bb30fff66ef"
      },
      "execution_count": null,
      "outputs": [
        {
          "name": "stdout",
          "output_type": "stream",
          "text": [
            "Data Mahasiswa\n",
            "input your name  : Ferdian\n",
            "input your nim   : 1191\n",
            "input your major : TI\n",
            "0 Ferdian\t 1191\t TI\n",
            "do you want to continue yes or no ? yes\n",
            "input your name  : Firmansyah\n",
            "input your nim   : 1192\n",
            "input your major : TS\n",
            "0 Ferdian\t 1191\t TI\n",
            "1 Firmansyah\t 1192\t TS\n",
            "do you want to continue yes or no ? no\n"
          ]
        }
      ]
    },
    {
      "cell_type": "markdown",
      "source": [
        "# Fundamental Tuples and Set"
      ],
      "metadata": {
        "id": "UWAcWJzgQUNd"
      }
    },
    {
      "cell_type": "code",
      "source": [
        "# tuples merupakan sebuah collection yang bernilai tetap sehingga tidak dapat dilakukannya semacam crud\n",
        "data= (1, 4, 7, 2)\n",
        "print(data)\n",
        "\n",
        "# set hampir sama dengan list akan tetapi set tidak memiliki sebuah indeks\n",
        "data = {1, 3, 2}\n",
        "print(data)"
      ],
      "metadata": {
        "colab": {
          "base_uri": "https://localhost:8080/"
        },
        "id": "bMwy0WIfQbZN",
        "outputId": "e394ae6f-a3a7-4e1d-c94b-43ac696c8554"
      },
      "execution_count": null,
      "outputs": [
        {
          "output_type": "stream",
          "name": "stdout",
          "text": [
            "(1, 4, 7, 2)\n",
            "{1, 2, 3}\n"
          ]
        }
      ]
    },
    {
      "cell_type": "markdown",
      "source": [
        "# Fundamental Dictionary"
      ],
      "metadata": {
        "id": "nZ-DJnKkUl3v"
      }
    },
    {
      "cell_type": "code",
      "source": [
        "# dictionary merupakan sebuah associative array yang menggunakan sebuah key dan value didalamnya\n",
        "data = {\n",
        "    \"nama\" : \"Ferdian\",\n",
        "    \"nim\" : 362055401191\n",
        "}\n",
        "print(data)\n",
        "print(data[\"nama\"])\n",
        "\n",
        "# menghitung panjang elemen dictionary\n",
        "lin = len(data)\n",
        "print(lin)\n",
        "\n",
        "# melakukan pengecekan data pada dictionary\n",
        "key = \"nama\"\n",
        "checking = key in data\n",
        "print(checking)\n",
        "\n",
        "# mengakses data read dictionary menggunakan get\n",
        "print(data.get(\"ferdi\", \"data tidak ditemukan\"))\n",
        "\n",
        "# melakukan update data dictionary menggunakan fungsi update\n",
        "data.update({\"nama\" : \"Firmansyah\"})\n",
        "data.update({\"prodi\" : \"TI\"})\n",
        "print(data)\n",
        "\n",
        "# melakukan hapus data dictionary menggunakan fungsi del\n",
        "del data[\"prodi\"]\n",
        "print(data)"
      ],
      "metadata": {
        "colab": {
          "base_uri": "https://localhost:8080/"
        },
        "id": "0pg_4kMCUp1z",
        "outputId": "63e38a01-abad-4362-ef32-696aa5a275d4"
      },
      "execution_count": null,
      "outputs": [
        {
          "output_type": "stream",
          "name": "stdout",
          "text": [
            "{'nama': 'Ferdian', 'nim': 362055401191}\n",
            "Ferdian\n",
            "2\n",
            "True\n",
            "data tidak ditemukan\n",
            "{'nama': 'Firmansyah', 'nim': 362055401191, 'prodi': 'TI'}\n",
            "{'nama': 'Firmansyah', 'nim': 362055401191}\n"
          ]
        }
      ]
    },
    {
      "cell_type": "markdown",
      "source": [
        "# Fundamental Loooping Dictionary"
      ],
      "metadata": {
        "id": "P4GDCc71cmOv"
      }
    },
    {
      "cell_type": "code",
      "source": [
        "data = {\n",
        "    \"nama\" : \"Ferdian\",\n",
        "    \"prodi\" : \"ti\",\n",
        "    \"kampus\" : \"poliwangi\"\n",
        "}\n",
        "print(data)\n",
        "\n",
        "for i in data:\n",
        "  print(i)\n",
        "\n",
        "# cara melakukan looping key menggunakan iterable\n",
        "print(\"\\nKeys\")\n",
        "key = data.keys()\n",
        "print(key)\n",
        "\n",
        "for i in data.keys():\n",
        "  print(data.get(i))\n",
        "\n",
        "# cara melakukan looping value menggunakan iterable\n",
        "print(\"\\nValues\")\n",
        "value = data.values()\n",
        "print(value)\n",
        "\n",
        "for i in data.values():\n",
        "  print(i)\n",
        "\n",
        "# cara melakukan looping items menggunakan iterable => tuples\n",
        "print(\"\\nItems\")\n",
        "value = data.items()\n",
        "print(value)\n",
        "\n",
        "for i in data.items():\n",
        "  print(i)"
      ],
      "metadata": {
        "colab": {
          "base_uri": "https://localhost:8080/"
        },
        "id": "gpI6-QincpZc",
        "outputId": "3604c966-c0b0-4cc9-c380-5aa98639eded"
      },
      "execution_count": null,
      "outputs": [
        {
          "output_type": "stream",
          "name": "stdout",
          "text": [
            "{'nama': 'Ferdian', 'prodi': 'ti', 'kampus': 'poliwangi'}\n",
            "nama\n",
            "prodi\n",
            "kampus\n",
            "\n",
            "Keys\n",
            "dict_keys(['nama', 'prodi', 'kampus'])\n",
            "Ferdian\n",
            "ti\n",
            "poliwangi\n",
            "\n",
            "Values\n",
            "dict_values(['Ferdian', 'ti', 'poliwangi'])\n",
            "Ferdian\n",
            "ti\n",
            "poliwangi\n",
            "\n",
            "Items\n",
            "dict_items([('nama', 'Ferdian'), ('prodi', 'ti'), ('kampus', 'poliwangi')])\n",
            "('nama', 'Ferdian')\n",
            "('prodi', 'ti')\n",
            "('kampus', 'poliwangi')\n"
          ]
        }
      ]
    },
    {
      "cell_type": "markdown",
      "source": [
        "# Fundamental Copy and Dictionary"
      ],
      "metadata": {
        "id": "7VQ2d7ihdBQU"
      }
    },
    {
      "cell_type": "code",
      "source": [
        "data = {\n",
        "    \"nama\" : \"Ferdian Firmansyah\",\n",
        "    \"prodi\" : \"TI\",\n",
        "    \"nim\" : 1191\n",
        "}\n",
        "print(data)\n",
        "\n",
        "# menggunakan sebuah fungsi untuk mengcopy sebuah list \n",
        "cp = data.copy()\n",
        "print(cp)\n",
        "\n",
        "# ketika menggunakan sebuah fungsi key yang dipanggil akan otomatis dihapus dari daftar list untuk sementara ketika daftar list tersebut dipanggil\n",
        "xp = cp.pop(\"nama\")\n",
        "print(f\"nama panjang ferdi adalah {xp}\")\n",
        "print(cp)\n",
        "\n",
        "# fungsi sama dengan penggunaan dari pop, namun hanya memanggil data terakhir atau last list dari jumlah daftar list dengan menyertakan key dan value\n",
        "xp = cp.popitem()\n",
        "print(f\"nama panjang ferdi adalah {xp}\")\n",
        "print(cp)\n",
        "\n"
      ],
      "metadata": {
        "colab": {
          "base_uri": "https://localhost:8080/"
        },
        "id": "DcQ279rpdGA4",
        "outputId": "d1014a66-f418-466b-953f-e4546a08316f"
      },
      "execution_count": null,
      "outputs": [
        {
          "output_type": "stream",
          "name": "stdout",
          "text": [
            "{'nama': 'Ferdian Firmansyah', 'prodi': 'TI', 'nim': 1191}\n",
            "{'nama': 'Ferdian Firmansyah', 'prodi': 'TI', 'nim': 1191}\n",
            "nama panjang ferdi adalah Ferdian Firmansyah\n",
            "{'prodi': 'TI', 'nim': 1191}\n",
            "nama panjang ferdi adalah ('nim', 1191)\n",
            "{'prodi': 'TI'}\n"
          ]
        }
      ]
    },
    {
      "cell_type": "markdown",
      "source": [
        "# Fundamental Multi Keys and Nesting Dictionary"
      ],
      "metadata": {
        "id": "n5oC7eAqg0so"
      }
    },
    {
      "cell_type": "code",
      "source": [
        "import datetime as dt\n",
        "\n",
        "mahasiswa1 = {\n",
        "    \"nama\" : \"Ferdian Firmansyah\",\n",
        "    \"nim\" : \"362055401191\",\n",
        "    \"prodi\" : \"Teknik Informatika\",\n",
        "    \"ttl\" : dt.datetime(2003, 4, 2)\n",
        "}\n",
        "mahasiswa2 = {\n",
        "    \"nama\" : \"Yusuf Dian\",\n",
        "    \"nim\" : \"362055401192\",\n",
        "    \"prodi\" : \"Teknik Informatika\",\n",
        "    \"ttl\" : dt.datetime(2003, 5, 2)\n",
        "}\n",
        "\n",
        "data = {\n",
        "    \"MHS1\" : mahasiswa1,\n",
        "    \"MHS2\" : mahasiswa2,\n",
        "}\n",
        "\n",
        "print(\"*\"*72)\n",
        "print(f\"{'Key':<6} {'Nama':<19} {'Nim':<15} {'Major':<20} {'Age':<15}\")\n",
        "print(\"*\"*72)\n",
        "\n",
        "for mahasiswa in data:\n",
        "  key = mahasiswa\n",
        "\n",
        "  nama = data[key][\"nama\"]\n",
        "  nim = data[key][\"nim\"]\n",
        "  prodi = data[key][\"prodi\"]\n",
        "  ttl = data[key][\"ttl\"].strftime(\"%x\")\n",
        "  print(f\"{key:<7}{nama:<20}{nim:<16}{prodi:<21}{ttl:<18}\")\n",
        "  print(\"*\"*72)"
      ],
      "metadata": {
        "colab": {
          "base_uri": "https://localhost:8080/"
        },
        "id": "qd7LmNoYhCJF",
        "outputId": "7949acc5-4d9d-4440-e6a8-68de02ddab41"
      },
      "execution_count": null,
      "outputs": [
        {
          "output_type": "stream",
          "name": "stdout",
          "text": [
            "************************************************************************\n",
            "Key    Nama                Nim             Major                Age            \n",
            "************************************************************************\n",
            "MHS1   Ferdian Firmansyah  362055401191    Teknik Informatika   04/02/03          \n",
            "************************************************************************\n",
            "MHS2   Yusuf Dian          362055401192    Teknik Informatika   05/02/03          \n",
            "************************************************************************\n"
          ]
        }
      ]
    },
    {
      "cell_type": "markdown",
      "source": [
        "# Training Dictionary 1"
      ],
      "metadata": {
        "id": "HRhu5-eIsPTf"
      }
    },
    {
      "cell_type": "code",
      "source": [
        "import datetime as dt\n",
        "\n",
        "data_temp = {\n",
        "    \"nama\" : \"name\",\n",
        "    \"nim\" : \"nim\", \n",
        "    \"major\" : \"major\",\n",
        "    \"age\" : \"age\"\n",
        "}\n",
        "\n",
        "print(\"-\"*42)\n",
        "print(f\"{'Selamat Datang':^40}\")\n",
        "print(f\"{'Data Mahasiswa':^40}\")\n",
        "print(\"-\"*42)\n",
        "\n",
        "# core\n",
        "mahasiswa = dict.fromkeys(data_temp.keys())\n",
        "mahasiswa['nama'] = input(\"Input your name  : \")\n",
        "mahasiswa['nim'] = input(\"Input your nim   : \")\n",
        "mahasiswa['major'] = input(\"Input your major : \")\n",
        "year = int(input(\"Input your year  : \"))\n",
        "month = int(input(\"Input your month : \"))\n",
        "day = int(input(\"Input your day   : \"))\n",
        "mahasiswa[\"age\"] = dt.datetime(year, month, day)\n",
        "print(\"-\"*42)\n",
        "print(mahasiswa)"
      ],
      "metadata": {
        "id": "BhRMYN4-sX6w",
        "colab": {
          "base_uri": "https://localhost:8080/"
        },
        "outputId": "b76b0d7d-200a-49ee-fb7d-36f5bca9a33d"
      },
      "execution_count": null,
      "outputs": [
        {
          "output_type": "stream",
          "name": "stdout",
          "text": [
            "------------------------------------------\n",
            "             Selamat Datang             \n",
            "             Data Mahasiswa             \n",
            "------------------------------------------\n",
            "Input your name  : Ferdian Firmansyah\n",
            "Input your nim   : 362055401191\n",
            "Input your major : Informatics Engineering\n",
            "Input your year  : 2003\n",
            "Input your month : 2\n",
            "Input your day   : 4\n",
            "------------------------------------------\n",
            "{'nama': 'Ferdian Firmansyah', 'nim': '362055401191', 'major': 'Informatics Engineering', 'age': datetime.datetime(2003, 2, 4, 0, 0)}\n"
          ]
        }
      ]
    },
    {
      "cell_type": "markdown",
      "source": [
        "# Training Dictionary 2"
      ],
      "metadata": {
        "id": "LL17igOxsTKy"
      }
    },
    {
      "cell_type": "code",
      "source": [
        "# gabungan penggunaan antara list dan dictionary\n",
        "import datetime as dt\n",
        "import string\n",
        "import random\n",
        "\n",
        "data_temp = {\n",
        "    \"nama\" : \"name\",\n",
        "    \"nim\" : \"nim\", \n",
        "    \"major\" : \"major\",\n",
        "    \"age\" : \"age\"\n",
        "}\n",
        "\n",
        "data_mahasiswa = {}\n",
        "\n",
        "print(\"-\"*42)\n",
        "print(f\"{'Selamat Datang':^40}\")\n",
        "print(f\"{'Data Mahasiswa':^40}\")\n",
        "print(\"-\"*42)\n",
        "\n",
        "# core\n",
        "while True:\n",
        "  mahasiswa = dict.fromkeys(data_temp.keys())\n",
        "  mahasiswa['nama'] = input(\"Input your name  : \")\n",
        "  mahasiswa['nim'] = input(\"Input your nim   : \")\n",
        "  mahasiswa['major'] = input(\"Input your major : \")\n",
        "  year = int(input(\"Input your year  : \"))\n",
        "  month = int(input(\"Input your month : \"))\n",
        "  day = int(input(\"Input your day   : \"))\n",
        "  mahasiswa[\"age\"] = dt.datetime(year, month, day)\n",
        "  print(\"-\"*42)\n",
        "  # print(mahasiswa)\n",
        "\n",
        "  key = ''.join((random.choice(string.ascii_uppercase) for i in range(5)))\n",
        "  data_mahasiswa.update({key:mahasiswa})\n",
        "\n",
        "  print(\"\\n\")\n",
        "  print(\"*\"*72)\n",
        "  print(f\"{'Data Mahasiswa':^70}\")\n",
        "  print(\"*\"*72)\n",
        "  print(f\"{'Key':<6} {'Nama':<19} {'Nim':<13} {'Major':<19} {'Age':<15}\")\n",
        "  print(\"*\"*72)\n",
        "\n",
        "  for mahasiswa in data_mahasiswa:\n",
        "    key = mahasiswa\n",
        "\n",
        "    nama = data_mahasiswa[key][\"nama\"]\n",
        "    nim = data_mahasiswa[key][\"nim\"]\n",
        "    major = data_mahasiswa[key][\"major\"]\n",
        "    age = data_mahasiswa[key][\"age\"].strftime(\"%x\")\n",
        "    print(f\"{key:<7}{nama:<20}{nim:<14}{major:<20}{age:<18}\")\n",
        "    print(\"*\"*72)\n",
        "\n",
        "  isChoose = input(\"End Session ? \")\n",
        "  if isChoose == \"y\":\n",
        "    break\n",
        "  else:\n",
        "    continue\n",
        "print(\"Finish Input Data\")"
      ],
      "metadata": {
        "colab": {
          "base_uri": "https://localhost:8080/"
        },
        "id": "3EqmNnazYU1w",
        "outputId": "7dfb5b8d-942e-4420-8f74-4e6d8d3aa758"
      },
      "execution_count": null,
      "outputs": [
        {
          "output_type": "stream",
          "name": "stdout",
          "text": [
            "------------------------------------------\n",
            "             Selamat Datang             \n",
            "             Data Mahasiswa             \n",
            "------------------------------------------\n",
            "Input your name  : Ferdian Firmansyah\n",
            "Input your nim   : 362055401191\n",
            "Input your major : Teknik Informatika\n",
            "Input your year  : 2003\n",
            "Input your month : 2\n",
            "Input your day   : 4\n",
            "------------------------------------------\n",
            "\n",
            "\n",
            "************************************************************************\n",
            "                            Data Mahasiswa                            \n",
            "************************************************************************\n",
            "Key    Nama                Nim           Major               Age            \n",
            "************************************************************************\n",
            "KBKQK  Ferdian Firmansyah  362055401191  Teknik Informatika  02/04/03          \n",
            "************************************************************************\n",
            "End Session ? n\n",
            "Finish Input Data\n"
          ]
        }
      ]
    },
    {
      "cell_type": "markdown",
      "source": [
        "# Fundamental Fungsi"
      ],
      "metadata": {
        "id": "S4ACBsu3sgUP"
      }
    },
    {
      "cell_type": "code",
      "source": [
        "# fungsi digunakan untuk mengurangi pengulangan kode programa atau redudancy sehingga penulisan kode program menjadi lebih efisien\n",
        "def test(nama):\n",
        "  print(nama)\n",
        "\n",
        "def sumest(num_1, num_2):\n",
        "  hasil = num_1 + num_2\n",
        "  print(f\"{hasil}\")\n",
        "\n",
        "test(\"ferdi\")\n",
        "sumest(1, 5)"
      ],
      "metadata": {
        "colab": {
          "base_uri": "https://localhost:8080/"
        },
        "id": "yJ9GGsG8tERn",
        "outputId": "6b22b597-48e6-4586-8f76-78e1f728c6b8"
      },
      "execution_count": null,
      "outputs": [
        {
          "output_type": "stream",
          "name": "stdout",
          "text": [
            "ferdi\n",
            "6\n"
          ]
        }
      ]
    },
    {
      "cell_type": "markdown",
      "source": [
        "# Fungsi Return"
      ],
      "metadata": {
        "id": "Ay-7KNK-4Ss_"
      }
    },
    {
      "cell_type": "code",
      "source": [
        "# membuat sebuah fungsi dengan kembalian or return value\n",
        "\n",
        "# template fungsi dengan kembalian\n",
        "# def name_function(argument):\n",
        "#   badan fungsi\n",
        "#   return output\n",
        "def kuadrat(value):\n",
        "  result = value ** 2\n",
        "  return result # perbedaan ketika menggunakan return adalah user harus menggunakan print lagi ketika pemanggilan fungsi agar dapat menampilkan sebuah output pada layar\n",
        "\n",
        "x = 1 + kuadrat(10)\n",
        "print(x)\n",
        "\n",
        "# penggunaan untuk return dalam banyak argument\n",
        "def operator(a, b):\n",
        "  sum = a + b\n",
        "  substraction = a -b\n",
        "  multiply = a * b\n",
        "  devide = a / b\n",
        "\n",
        "  return sum, substraction, multiply, devide\n",
        "\n",
        "a, b, c, d = operator(10, 5)\n",
        "print(\"sum\", a)\n",
        "print(\"substraction\", b)\n",
        "print(\"multiply\", c)\n",
        "print(\"devide\", d)"
      ],
      "metadata": {
        "colab": {
          "base_uri": "https://localhost:8080/"
        },
        "id": "ZSW8AMfv4auf",
        "outputId": "2c6d3b54-34e2-4e47-85f0-a3b2b87920ff"
      },
      "execution_count": null,
      "outputs": [
        {
          "output_type": "stream",
          "name": "stdout",
          "text": [
            "101\n",
            "sum 15\n",
            "substraction 5\n",
            "multiply 50\n",
            "devide 2.0\n"
          ]
        }
      ]
    },
    {
      "cell_type": "markdown",
      "source": [
        "# Default Argument Function"
      ],
      "metadata": {
        "id": "P3OxjLC4CaWU"
      }
    },
    {
      "cell_type": "code",
      "source": [
        "# default argument adalah sebuah argument dengan value didalamnya sehingga ketika fungsi dipanggil dengan parameter yang null akan otomatis terisi dengan dengan parameter value yang dimasukkan\n",
        "\n",
        "def value(name = \"Laravel Hello World\"):\n",
        "  print(name)\n",
        "\n",
        "value()\n",
        "value(\"Ferdian Firmansyah\")\n",
        "\n",
        "def query(input1 = 10, input2 = 5, input3 = 2):\n",
        "  result = input1 + input2 + input3\n",
        "  return result\n",
        "\n",
        "# ketika ingin memanggil argument didalmnya penaman parameter atau argumentnya harus sama, hal ini menyesuaikan dengan requirement dimana dalam bahasa pemrograman python harus urut secara ascending dengan parameter\n",
        "print(query(input2 = 10))\n"
      ],
      "metadata": {
        "colab": {
          "base_uri": "https://localhost:8080/"
        },
        "id": "9PzBtp2_CgOi",
        "outputId": "52f65068-6dd8-4ba6-dfc2-3207477ad440"
      },
      "execution_count": null,
      "outputs": [
        {
          "output_type": "stream",
          "name": "stdout",
          "text": [
            "Laravel Hello World\n",
            "Ferdian Firmansyah\n",
            "22\n"
          ]
        }
      ]
    },
    {
      "cell_type": "markdown",
      "source": [
        "# Type Hints Function"
      ],
      "metadata": {
        "id": "MR-yNB2iF9Cg"
      }
    },
    {
      "cell_type": "code",
      "source": [
        "# type hints dalam function\n",
        "\n",
        "def function(argument):\n",
        "  print(argument)\n",
        "\n",
        "function(1)\n",
        "function(\"Ferdian Firmansyah\")\n",
        "function(True)\n",
        "\n",
        "# penggunaan type hints\n",
        "# type hints didalamnya dapat menerapkan type data\n",
        "def value(argument: int) -> int:\n",
        "  output = 10 + argument\n",
        "  return output\n",
        "\n",
        "value(5)"
      ],
      "metadata": {
        "colab": {
          "base_uri": "https://localhost:8080/"
        },
        "id": "Wpr7RAXwGCUj",
        "outputId": "4ea9cc31-241e-41af-b822-29741480434f"
      },
      "execution_count": null,
      "outputs": [
        {
          "output_type": "stream",
          "name": "stdout",
          "text": [
            "1\n",
            "Ferdian Firmansyah\n",
            "True\n"
          ]
        },
        {
          "output_type": "execute_result",
          "data": {
            "text/plain": [
              "15"
            ]
          },
          "metadata": {},
          "execution_count": 16
        }
      ]
    },
    {
      "cell_type": "markdown",
      "source": [
        "# Argument Function"
      ],
      "metadata": {
        "id": "K9tsxlnXIPfn"
      }
    },
    {
      "cell_type": "code",
      "source": [
        "# argument function\n",
        "# memasukkan data atau argument didalam sebuah function\n",
        "\n",
        "def value(nama, tinggi, berat):\n",
        "  print(f\"{nama} memiliki tinggi {tinggi} dengan berat {berat}\")\n",
        "\n",
        "value(\"Ferdian\", 178, 58)\n",
        "print(value)\n",
        "\n",
        "# args digunakan untuk memanggil argument atau paramenter dari nama fungi yang sama sehingga parameter tersebut dapat digunakna pada fungsi yang ditimpa\n",
        "def value(*args):\n",
        "  nama = args[0]\n",
        "  tinggi = args[1]\n",
        "  berat = args[2]\n",
        "  print(f\"{nama} memiliki tinggi {tinggi} dengan berat {berat}\")\n",
        "\n",
        "value(\"ff\", 100, 10)\n",
        "print(value)"
      ],
      "metadata": {
        "colab": {
          "base_uri": "https://localhost:8080/"
        },
        "id": "dXWTJBT3ITux",
        "outputId": "e2a0a55c-780b-4876-b339-04c75355764a"
      },
      "execution_count": null,
      "outputs": [
        {
          "output_type": "stream",
          "name": "stdout",
          "text": [
            "Ferdian memiliki tinggi 178 dengan berat 58\n",
            "<function value at 0x7f6755a179e0>\n",
            "ff memiliki tinggi 100 dengan berat 10\n",
            "<function value at 0x7f6755a17a70>\n"
          ]
        }
      ]
    },
    {
      "cell_type": "markdown",
      "source": [
        "# kwargs function"
      ],
      "metadata": {
        "id": "W9TFmjZKOYkC"
      }
    },
    {
      "cell_type": "code",
      "source": [
        "# fundamental dasar mengenai kwargs function\n",
        "# kwargs digunakan untuk mengambil key kedalam sebuah function yang melewatkan sebuah argument atau parameter\n",
        "\n",
        "def identify(nama, tinggi, berat):\n",
        "  print(f\"nama : {nama} tinggi : {tinggi} berat : {berat}\")\n",
        "identify(nama = \"Ferdian\", tinggi = 180, berat = 60)\n",
        "\n",
        "# penggunaan kwargs function\n",
        "def identify(**kwargs):\n",
        "  nama = kwargs[\"nama\"]\n",
        "  tinggi = kwargs[\"tinggi\"]\n",
        "  berat = kwargs[\"berat\"]\n",
        "  print(f\"nama : {nama} tinggi : {tinggi} berat : {berat}\")\n",
        "\n",
        "identify(nama = \"Ferdian\", tinggi = 180, berat = 60)"
      ],
      "metadata": {
        "colab": {
          "base_uri": "https://localhost:8080/"
        },
        "id": "5-dUqeXAOhtB",
        "outputId": "e460ef4a-d0ad-43f7-9ac0-c8bb7d2522b1"
      },
      "execution_count": null,
      "outputs": [
        {
          "output_type": "stream",
          "name": "stdout",
          "text": [
            "nama : Ferdian tinggi : 180 berat : 60\n",
            "nama : Ferdian tinggi : 180 berat : 60\n"
          ]
        }
      ]
    }
  ]
}